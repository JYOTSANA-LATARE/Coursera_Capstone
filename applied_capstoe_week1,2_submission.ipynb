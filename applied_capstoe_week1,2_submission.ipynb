{
  "nbformat": 4,
  "nbformat_minor": 0,
  "metadata": {
    "colab": {
      "name": "applied capstoe week1,2 submission.ipynb",
      "provenance": [],
      "authorship_tag": "ABX9TyMk0OgHFAzO2EMNjfHZNy5k",
      "include_colab_link": true
    },
    "kernelspec": {
      "name": "python3",
      "display_name": "Python 3"
    }
  },
  "cells": [
    {
      "cell_type": "markdown",
      "metadata": {
        "id": "view-in-github",
        "colab_type": "text"
      },
      "source": [
        "<a href=\"https://colab.research.google.com/github/JYOTSANA-LATARE/Coursera_Capstone/blob/master/applied_capstoe_week1%2C2_submission.ipynb\" target=\"_parent\"><img src=\"https://colab.research.google.com/assets/colab-badge.svg\" alt=\"Open In Colab\"/></a>"
      ]
    },
    {
      "cell_type": "markdown",
      "metadata": {
        "id": "KVlhCtn-oOsw",
        "colab_type": "text"
      },
      "source": [
        "#Applied Data Science Capstone Project - Car accident severity\n",
        "## Introduction (Business Problem) \n",
        "The purpose of this project is to build a machine learning model to predict the severity of a car accident in terms of human fatality, traffic delay, property damage, or any other type of accident bad impact.\n",
        "\n",
        "This prediction system may be helpful for people who are driving or travelling on the same roads that are closed due to the accident. Having an early idea of the accident severity may help them decide whether they should stay on the same way or take a detour. An early idea of the severity can also help the police and the paramedics to plan on number of resources (both humans and equipments) need to be involved to deal with the accident.\n",
        "\n",
        "I am going to use a supervised machine learning model for this project. Hence, like any supervised machine learning model, a dataset with labeled data will be used to train and validate the model.\n",
        "\n",
        "I will be using the same dataset which is provided in the course i.e. 'Data-Collisions.csv'.\n",
        "\n",
        "# **Data**\n",
        "The dataset, 'Data-Collisions.csv', is a CSV file provided in the course syllabus and it contains the Seattle city traffic accident information from 01-Jan-2004 to 20-May-2020.\n",
        "\n",
        "The initial dataset has a total of 38 columns (37 features and one label or target column) and a total of 194673 rows or samples.\n",
        "\n",
        "The target column or the label of the dataset is the \"SEVERITY\" column which describes the fatality of the accident.\n",
        "\n",
        "Some features have missing data and there are numerical and categorical types of data in the dataset. Not all attributes/features are useful, so some of them may need to be dropped. Some level of feature engineering will be required to reform or reshape the data in order to improve the predictability of the model.\n",
        "\n",
        "In order to deceide on which features should be used to build the predictive model I would consider the features that describe human factors, physical factors and environmental factors. After an initial observation it seems to me that the following attributes are good candidates for my project.\n",
        "\n",
        "*  Location\n",
        "*  Car speeding\n",
        "*  Person under the influence of alcohol\n",
        "*  Junction type\n",
        "*  Weather condition\n",
        "*  Light conditions\n",
        "*  Road conditions\n",
        "*  Number of people involved\n",
        "*  Number of vehicles involved\n",
        "\n",
        "\n",
        "\n",
        "\n",
        "Below are the column names in the initial dataset that represent the above listed attributes:\n",
        "\n",
        "'LOCATION', 'SPEEDING', 'UNDERINFL', 'JUNCTIONTYPE', 'WEATHER', 'LIGHTCOND', 'ROADCOND', 'PERSONCOUNT', 'VEHCOUNT'\n",
        "\n",
        "This is only an initial assumption and I may need to add, remove, split or transform features as I analyse the data in more details along the way."
      ]
    },
    {
      "cell_type": "code",
      "metadata": {
        "id": "ooD8paumpbiy",
        "colab_type": "code",
        "colab": {}
      },
      "source": [
        ""
      ],
      "execution_count": null,
      "outputs": []
    }
  ]
}